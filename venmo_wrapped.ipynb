{
 "cells": [
  {
   "cell_type": "markdown",
   "metadata": {},
   "source": [
    "# Venmo Wrapped"
   ]
  },
  {
   "cell_type": "markdown",
   "metadata": {},
   "source": [
    "Needs [Selenium](https://selenium-python.readthedocs.io/index.html)."
   ]
  },
  {
   "cell_type": "code",
   "execution_count": null,
   "metadata": {},
   "outputs": [],
   "source": [
    "from datetime import datetime\n",
    "import calendar\n",
    "import itertools\n",
    "import time\n",
    "import os\n",
    "\n",
    "from matplotlib import pyplot as plt\n",
    "import pandas as pd\n",
    "from selenium import webdriver\n",
    "from selenium.webdriver.common.keys import Keys\n",
    "from selenium.webdriver.common.by import By\n",
    "from selenium.webdriver.support.ui import WebDriverWait\n",
    "from selenium.webdriver.support import expected_conditions as EC\n",
    "\n",
    "plt.rcParams['figure.figsize'] = [12, 8]"
   ]
  },
  {
   "cell_type": "markdown",
   "metadata": {},
   "source": [
    "## 1. Getting the data"
   ]
  },
  {
   "cell_type": "markdown",
   "metadata": {},
   "source": [
    "Since Venmo only allows you to download 60 days' worth of data at a time and I've had Venmo since 2015, I automated this part -- but if you haven't used Venmo for very long, it might be easier to just manually download the data."
   ]
  },
  {
   "cell_type": "code",
   "execution_count": null,
   "metadata": {},
   "outputs": [],
   "source": [
    "# Get start and end dates for each month\n",
    "months = ['0'+str(x) if (len(str(x)) == 1) else x for x in range(1, 13)]\n",
    "years = [str(x) for x in range(2015, 2021)]\n",
    "month_years = list(itertools.product(*[months, years]))\n",
    "date_ranges = [('{}-01-{}'.format(x[0], x[1]),\n",
    "                '{}-{}-{}'.format(x[0], calendar.monthrange(int(x[1]), int(x[0]))[1], x[1]))\n",
    "                for x in month_years]"
   ]
  },
  {
   "cell_type": "markdown",
   "metadata": {},
   "source": [
    "Venmo doesn't allow the automated browser to log in, so first we spin up the browser:"
   ]
  },
  {
   "cell_type": "code",
   "execution_count": null,
   "metadata": {},
   "outputs": [],
   "source": [
    "driver = webdriver.Chrome('/Users/lucy/opt/WebDriver/bin/chromedriver')\n",
    "driver.get('https://venmo.com/account/sign-in')"
   ]
  },
  {
   "cell_type": "markdown",
   "metadata": {},
   "source": [
    "Now **manually login to your Venmo account** in the automated browser window. \n",
    "\n",
    "Then run this:"
   ]
  },
  {
   "cell_type": "code",
   "execution_count": null,
   "metadata": {
    "scrolled": false
   },
   "outputs": [],
   "source": [
    "for date_range in date_ranges:\n",
    "    print(date_range)\n",
    "    driver.get('https://venmo.com/account/statement?end={}&start={}'.format(date_range[1], date_range[0]))\n",
    "\n",
    "    element = WebDriverWait(driver, 10).until(\n",
    "        EC.presence_of_element_located((By.XPATH, '//*[@id=\"app\"]/div/div[2]/div/div/div/div[1]/div/div[3]/a'))\n",
    "    )\n",
    "    element.click()\n",
    "    \n",
    "    time.sleep(5)\n",
    "    \n",
    "driver.close()"
   ]
  },
  {
   "cell_type": "markdown",
   "metadata": {},
   "source": [
    "## 2. Analyzing the data"
   ]
  },
  {
   "cell_type": "markdown",
   "metadata": {},
   "source": [
    "### 2.1 Loading & cleaning the data"
   ]
  },
  {
   "cell_type": "code",
   "execution_count": null,
   "metadata": {},
   "outputs": [],
   "source": [
    "data_files = os.listdir('venmo_data/') # Assuming all your data is in this dir\n",
    "data = pd.concat([pd.read_csv(os.path.join('venmo_data', x))[1:-1] for x in data_files])"
   ]
  },
  {
   "cell_type": "code",
   "execution_count": null,
   "metadata": {},
   "outputs": [],
   "source": [
    "data = data.drop(axis='columns', labels=['Username', 'Amount (fee)', 'Funding Source',\n",
    "                                         'Beginning Balance', 'Ending Balance',\n",
    "                                         'Statement Period Venmo Fees', 'Terminal Location',\n",
    "                                         'Destination', 'Year to Date Venmo Fees',\n",
    "                                         'Disclaimer']).reset_index()\n",
    "data.drop_duplicates(subset='ID', inplace=True) # Drop duplicate transactions"
   ]
  },
  {
   "cell_type": "code",
   "execution_count": null,
   "metadata": {},
   "outputs": [],
   "source": [
    "# Converting \"- $X.XX\", \"+ $X.XX\" to floats\n",
    "def convert_dollar_to_float(dollar):\n",
    "    if dollar[0] == '+':\n",
    "        return float(dollar.split('$')[-1].replace(',', ''))\n",
    "    elif dollar[0] == '-':\n",
    "        return float(dollar.split('$')[-1].replace(',', ''))*-1\n",
    "    \n",
    "data['Amount (total)'] = [convert_dollar_to_float(x) for x in data['Amount (total)']]"
   ]
  },
  {
   "cell_type": "markdown",
   "metadata": {},
   "source": [
    "Venmo includes transactions like bank transfers in the data, but we are only interested in charges and payments:"
   ]
  },
  {
   "cell_type": "code",
   "execution_count": null,
   "metadata": {},
   "outputs": [],
   "source": [
    "data = data[data['Type'].isin(['Charge', 'Payment'])]"
   ]
  },
  {
   "cell_type": "markdown",
   "metadata": {},
   "source": [
    "Venmo also formats the statements as a:\n",
    "- `Charge` if someone requested you and you completed the charge. In this case, the `To` field is your name and the `From` field is the person who charged you. \n",
    "- `Payment` if you paid someone. In this case, the `To` field is the name of the person you paid and the `From` field is your name.\n",
    "\n",
    "In both cases, the sign of the `Amount (total)` field reveals whether it's an inflow or outflow. Since we're only interested in who we're paying vs. receiving money from, we need to condense the `To` and `From` field into one `person` field that gives the name of the other party involved in each transaction."
   ]
  },
  {
   "cell_type": "code",
   "execution_count": null,
   "metadata": {},
   "outputs": [],
   "source": [
    "data['person'] = [x.replace('Lucy Wu', '')\n",
    "                      if x==x else x for x in data['From']+data['To']]"
   ]
  },
  {
   "cell_type": "code",
   "execution_count": null,
   "metadata": {},
   "outputs": [],
   "source": [
    "outflows = data[data['Amount (total)'] < 0]\n",
    "inflows = data[data['Amount (total)'] > 0]"
   ]
  },
  {
   "cell_type": "code",
   "execution_count": null,
   "metadata": {},
   "outputs": [],
   "source": [
    "# Top 5 people paid the most $ to in 2020\n",
    "outflows[outflows['Datetime'] > '2020-01-01'].groupby('person') \\\n",
    "    .sum().sort_values(by='Amount (total)').head(5)[['Amount (total)']]"
   ]
  },
  {
   "cell_type": "code",
   "execution_count": null,
   "metadata": {},
   "outputs": [],
   "source": [
    "# Top 5 people paid most frequently in 2020\n",
    "outflows[outflows['Datetime'] > '2020-01-01'].groupby('person').count() \\\n",
    "    .sort_values(by='Amount (total)', ascending=False).head(5)[['ID']] \\\n",
    "    .rename(columns={'ID': '# times'})"
   ]
  },
  {
   "cell_type": "code",
   "execution_count": null,
   "metadata": {},
   "outputs": [],
   "source": [
    "# Top 5 people received the most $ from in 2020\n",
    "inflows[inflows['Datetime'] > '2020-01-01'].groupby('person').sum() \\\n",
    "    .sort_values(by='Amount (total)', ascending=False).head(5)[['Amount (total)']]"
   ]
  },
  {
   "cell_type": "code",
   "execution_count": null,
   "metadata": {},
   "outputs": [],
   "source": [
    "# Top 5 people received from most frequently in 2020\n",
    "inflows[inflows['Datetime'] > '2020-01-01'].groupby('person').count() \\\n",
    "    .sort_values(by='Amount (total)', ascending=False).head(5)[['ID']] \\\n",
    "    .rename(columns={'ID': '# times'})"
   ]
  },
  {
   "cell_type": "code",
   "execution_count": null,
   "metadata": {},
   "outputs": [],
   "source": [
    "# People paid the most $ to, all time\n",
    "outflows.groupby('person').sum().sort_values(by='Amount (total)') \\\n",
    "    .head(5)[['Amount (total)']]"
   ]
  },
  {
   "cell_type": "code",
   "execution_count": null,
   "metadata": {},
   "outputs": [],
   "source": [
    "# Top 5 people paid the most frequently, all time\n",
    "outflows.groupby('person').count().sort_values(by='Amount (total)', ascending=False) \\\n",
    "    .head(5)[['ID']].rename(columns={'ID': '# times'})"
   ]
  },
  {
   "cell_type": "code",
   "execution_count": null,
   "metadata": {},
   "outputs": [],
   "source": [
    "# Total outflows/inflows\n",
    "print('Total outflows: ', round(outflows['Amount (total)'].sum(), 2))\n",
    "print('Total inflows: +', round(inflows['Amount (total)'].sum(), 2), sep='')"
   ]
  },
  {
   "cell_type": "code",
   "execution_count": null,
   "metadata": {},
   "outputs": [],
   "source": [
    "# Plot payments per month\n",
    "outflows['month'] = [datetime.strftime(datetime.strptime(x, '%Y-%m-%dT%H:%M:%S'), '%Y-%m')\n",
    "                     for x in outflows['Datetime']]\n",
    "inflows['month'] = [datetime.strftime(datetime.strptime(x, '%Y-%m-%dT%H:%M:%S'), '%Y-%m')\n",
    "                     for x in inflows['Datetime']]\n",
    "\n",
    "outflows_monthly = outflows.groupby('month').sum()[['Amount (total)']].sort_index()\n",
    "inflows_monthly = inflows.groupby('month').sum()[['Amount (total)']].sort_index()\n",
    "data_monthly = outflows_monthly.join(inflows_monthly, how='outer',\n",
    "                                     lsuffix='_out', rsuffix='_in').fillna(0)\n",
    "data_monthly.rename(columns={'Amount (total)_out': 'outflows',\n",
    "                             'Amount (total)_in': 'inflows'}, inplace=True)"
   ]
  },
  {
   "cell_type": "code",
   "execution_count": null,
   "metadata": {},
   "outputs": [],
   "source": [
    "data_monthly.plot(color=['red', 'green'])\n",
    "plt.title('Monthly inflows vs. outflows')\n",
    "plt.ylabel('Amount USD')\n",
    "plt.xlabel('')\n",
    "plt.show()"
   ]
  }
 ],
 "metadata": {
  "kernelspec": {
   "display_name": "Python 3",
   "language": "python",
   "name": "python3"
  },
  "language_info": {
   "codemirror_mode": {
    "name": "ipython",
    "version": 3
   },
   "file_extension": ".py",
   "mimetype": "text/x-python",
   "name": "python",
   "nbconvert_exporter": "python",
   "pygments_lexer": "ipython3",
   "version": "3.7.4"
  }
 },
 "nbformat": 4,
 "nbformat_minor": 2
}
